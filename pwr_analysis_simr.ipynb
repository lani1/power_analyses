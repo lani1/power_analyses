{
 "cells": [
  {
   "cell_type": "markdown",
   "metadata": {},
   "source": [
    "Author: Lani Cupo       Date: 20190930\n",
    "This script uses a \"pilot\" to simulate data for a power analysis using the simr package in R. \n",
    "Tutorials used include: \n",
    "https://rstudio-pubs-static.s3.amazonaws.com/484106_6b51212f20164fdd88cd7cce89bdef79.html\n",
    "https://cran.r-project.org/web/packages/simr/vignettes/examples.html\n"
   ]
  },
  {
   "cell_type": "code",
   "execution_count": 1,
   "metadata": {},
   "outputs": [
    {
     "name": "stderr",
     "output_type": "stream",
     "text": [
      "Loading required package: Matrix\n",
      "\n",
      "Attaching package: ‘dplyr’\n",
      "\n",
      "The following objects are masked from ‘package:stats’:\n",
      "\n",
      "    filter, lag\n",
      "\n",
      "The following objects are masked from ‘package:base’:\n",
      "\n",
      "    intersect, setdiff, setequal, union\n",
      "\n"
     ]
    },
    {
     "ename": "ERROR",
     "evalue": "Error in library(simr): there is no package called ‘simr’\n",
     "output_type": "error",
     "traceback": [
      "Error in library(simr): there is no package called ‘simr’\nTraceback:\n",
      "1. library(simr)",
      "2. stop(txt, domain = NA)"
     ]
    }
   ],
   "source": [
    "#load all necessary libraries\n",
    "#On CIC computers, simr is installed in R 3.5.1\n",
    "library(lme4)\n",
    "library(dplyr)\n",
    "library(ggplot2)\n",
    "library(simr)\n",
    "library(broom) #extract random effects\n",
    "library(knitr)\n",
    "library(truncnorm)\n",
    "library(lmerTest)\n",
    "library(RMINC)"
   ]
  },
  {
   "cell_type": "code",
   "execution_count": null,
   "metadata": {},
   "outputs": [],
   "source": [
    "#set working directory\n",
    "setwd(\"/home/lani/phd1/pwr_analysis\")"
   ]
  },
  {
   "cell_type": "markdown",
   "metadata": {},
   "source": [
    "For this simulation:\n",
    "my outcome (y) <- brain volume (of specific region)\n",
    "group level predictors (fixed effects) <- treatment + sex + age\n",
    "individual level predictors (random effects) <- mouse_id"
   ]
  },
  {
   "cell_type": "code",
   "execution_count": null,
   "metadata": {},
   "outputs": [],
   "source": [
    "#load in data sets\n",
    "volumes <- read.csv(\"allvolumes_mia.csv\")\n"
   ]
  },
  {
   "cell_type": "code",
   "execution_count": null,
   "metadata": {},
   "outputs": [],
   "source": [
    "#Alter timepoints to look at the adolescent time points (that I have in my experiment)\n",
    "vols_adol <- subset(volumes, !volumes$timepoint == 0)\n",
    "vols_adol <- subset(vols_adol, !vols_adol$timepoint == 3)\n",
    "#Exclude the poly late group which I don't have\n",
    "vols_adol_e <- subset(vols_adol, !vols_adol$new_groups == \"POL_L\")"
   ]
  },
  {
   "cell_type": "code",
   "execution_count": null,
   "metadata": {},
   "outputs": [],
   "source": [
    "#run lmer that you want to look at \n",
    "#Here I chose one region to look at first\n",
    "fm1 <- lmer(left_CA1Rad ~ sex + new_groups + age + (1|mouse_id), data = vols_adol_e)\n",
    "summary(fm1)"
   ]
  },
  {
   "cell_type": "code",
   "execution_count": null,
   "metadata": {},
   "outputs": [],
   "source": [
    "#extract effects from the model to base simulations on\n",
    "#extract fixed\n",
    "fixed <- c(1.427, 0.054, -0.073, 0.004)\n",
    "#extract random effects\n",
    "rand <- 0.002\n",
    "#extract residual and take the square root\n",
    "s <- 0.004^0.5"
   ]
  },
  {
   "cell_type": "code",
   "execution_count": null,
   "metadata": {},
   "outputs": [],
   "source": [
    "#recreate the model with the coefficients from before\n",
    "model <- makeLmer(y ~ sex + new_groups + age + (1|mouse_id), fixef=fixed, VarCorr=rand, sigma=s, data=vols_adol_e)\n",
    "model"
   ]
  },
  {
   "cell_type": "code",
   "execution_count": null,
   "metadata": {},
   "outputs": [],
   "source": [
    "#Test a different sample size (here n=500)\n",
    "# variable identified is expaneded to n rows \n",
    "model_ext_mice <- extend(model, along=\"mouse_id\", n=500)\n",
    "model_ext_mice"
   ]
  },
  {
   "cell_type": "code",
   "execution_count": null,
   "metadata": {},
   "outputs": [],
   "source": [
    "#Test 2-way interactions\n",
    "set.seed(0)\n",
    "p_curve_treatXsex <- powerCurve(model_ext_mice, \n",
    "                          test=fcompare(y ~ new_groups + sex), \n",
    "                          along=\"mouse_id\",\n",
    "                          breaks=c(1,2,3,4,5,6,7,8,9),\n",
    "                          nsim=500,alpha=.05, progress=FALSE)\n",
    "plot(p_curve_treatXsex)\n",
    "\n",
    "\n",
    "#Test 2-way interactions\n",
    "set.seed(0)\n",
    "p_curve_treatXage <- powerCurve(model_ext_mice, \n",
    "                                test=fcompare(y ~ new_groups + age), \n",
    "                                along=\"mouse_id\",\n",
    "                                breaks=c(1,10, 20, 30, 40, 50),\n",
    "                                nsim=500,alpha=.05, progress=FALSE)\n",
    "plot(p_curve_treatXage)\n",
    "\n",
    "#Test 2-way interactions\n",
    "set.seed(0)\n",
    "p_curve_sexXage <- powerCurve(model_ext_mice, \n",
    "                                test=fcompare(y ~ sex + age), \n",
    "                                along=\"mouse_id\",\n",
    "                                breaks=c(1,10, 20, 30, 40, 50),\n",
    "                                nsim=500,alpha=.05, progress=FALSE)\n",
    "plot(p_curve_sexXage)\n"
   ]
  },
  {
   "cell_type": "code",
   "execution_count": null,
   "metadata": {},
   "outputs": [],
   "source": [
    "#Test 3-way interaction\n",
    "set.seed(0)\n",
    "p_curve_ixn <- powerCurve(model_ext_mice, \n",
    "                             test=fcompare(y ~ new_groups + sex + age), \n",
    "                             along=\"mouse_id\",\n",
    "                             breaks=c(50, 100, 150, 200),\n",
    "                             nsim=500,alpha=.05, progress=FALSE)\n",
    "plot(p_curve_ixn)"
   ]
  },
  {
   "cell_type": "markdown",
   "metadata": {},
   "source": [
    "Now, we will attempt another method for estimating power, given different numbers of inputs. "
   ]
  },
  {
   "cell_type": "code",
   "execution_count": null,
   "metadata": {},
   "outputs": [],
   "source": [
    "#Calculate p-values for individual terms like this:\n",
    "summary(fm1)$coef\n",
    "doTest(fm1, fixed(\"new_groupsSAL\", \"z\"))\n",
    "doTest(fm1, fixed(\"age\", \"z\"))\n",
    "doTest(fm1, fixed(\"sexmale\", \"z\"))"
   ]
  },
  {
   "cell_type": "code",
   "execution_count": null,
   "metadata": {},
   "outputs": [],
   "source": [
    "#Simulate and test for power\n",
    "#Set the effect size for the fixed effects based on our Hedge's g calculation as it represents\n",
    "#the smallest effect we can reliably detect.\n",
    "fixef(fm1)[\"new_groupsSAL\"] <- 0.267\n",
    "sim_grp <- powerSim(fm1, fixed(\"new_groupsSAL\", \"z\"), nsim=50)\n",
    "\n",
    "fixef(fm1)[\"age\"] <- 0.267\n",
    "powerSim(fm1, fixed(\"age\", \"z\"), nsim=50)\n",
    "\n",
    "fixef(fm1)[\"sexmale\"] <- 0.267\n",
    "sim_sex <- powerSim(fm1, fixed(\"sexmale\", \"z\"), nsim=50)"
   ]
  },
  {
   "cell_type": "code",
   "execution_count": null,
   "metadata": {},
   "outputs": [],
   "source": []
  }
 ],
 "metadata": {
  "kernelspec": {
   "display_name": "R",
   "language": "R",
   "name": "ir"
  },
  "language_info": {
   "codemirror_mode": "r",
   "file_extension": ".r",
   "mimetype": "text/x-r-source",
   "name": "R",
   "pygments_lexer": "r",
   "version": "3.4.4"
  }
 },
 "nbformat": 4,
 "nbformat_minor": 2
}
