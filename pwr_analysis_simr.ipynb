{
 "cells": [
  {
   "cell_type": "markdown",
   "metadata": {},
   "source": [
    "Author: Lani Cupo       Date: 20190930\n",
    "This script uses a \"pilot\" to simulate data for a power analysis using the simr package in R. \n",
    "Tutorials used include: \n",
    "https://rstudio-pubs-static.s3.amazonaws.com/484106_6b51212f20164fdd88cd7cce89bdef79.html\n",
    "https://cran.r-project.org/web/packages/simr/vignettes/examples.html\n"
   ]
  },
  {
   "cell_type": "code",
   "execution_count": 1,
   "metadata": {},
   "outputs": [
    {
     "name": "stderr",
     "output_type": "stream",
     "text": [
      "Loading required package: Matrix\n"
     ]
    },
    {
     "ename": "ERROR",
     "evalue": "Error in library(simr): there is no package called ‘simr’\n",
     "output_type": "error",
     "traceback": [
      "Error in library(simr): there is no package called ‘simr’\nTraceback:\n",
      "1. library(simr)",
      "2. stop(txt, domain = NA)"
     ]
    }
   ],
   "source": [
    "#load all necessary libraries\n",
    "#On CIC computers, simr is installed in R 3.5.1\n",
    "library(lme4)\n",
    "library(simr)\n",
    "library(lmerTest)\n"
   ]
  },
  {
   "cell_type": "code",
   "execution_count": 2,
   "metadata": {},
   "outputs": [],
   "source": [
    "#set working directory\n",
    "setwd(\"/home/lani/phd1/pwr_analysis\")"
   ]
  },
  {
   "cell_type": "markdown",
   "metadata": {},
   "source": [
    "For this simulation:\n",
    "my outcome (y) <- brain volume (of specific region)\n",
    "group level predictors (fixed effects) <- treatment + sex + age\n",
    "individual level predictors (random effects) <- mouse_id"
   ]
  },
  {
   "cell_type": "code",
   "execution_count": 3,
   "metadata": {},
   "outputs": [],
   "source": [
    "#load in data sets\n",
    "volumes <- read.csv(\"allvolumes_mia.csv\")\n"
   ]
  },
  {
   "cell_type": "code",
   "execution_count": 4,
   "metadata": {},
   "outputs": [
    {
     "data": {
      "text/plain": [
       "Linear mixed model fit by maximum likelihood  ['lmerMod']\n",
       "Formula: left_CA1Rad ~ sex + age + (1 | mouse_id)\n",
       "   Data: sal_adults\n",
       "\n",
       "     AIC      BIC   logLik deviance df.resid \n",
       "  -150.1   -138.1     80.1   -160.1       77 \n",
       "\n",
       "Scaled residuals: \n",
       "     Min       1Q   Median       3Q      Max \n",
       "-2.03608 -0.69030  0.01228  0.64502  2.03518 \n",
       "\n",
       "Random effects:\n",
       " Groups   Name        Variance Std.Dev.\n",
       " mouse_id (Intercept) 0.001923 0.04385 \n",
       " Residual             0.006604 0.08127 \n",
       "Number of obs: 82, groups:  mouse_id, 41\n",
       "\n",
       "Fixed effects:\n",
       "             Estimate Std. Error t value\n",
       "(Intercept) 1.5287049  0.0459823   33.25\n",
       "sexmale     0.0535899  0.0225843    2.37\n",
       "age         0.0008659  0.0005726    1.51\n",
       "\n",
       "Correlation of Fixed Effects:\n",
       "        (Intr) sexmal\n",
       "sexmale -0.247       \n",
       "age     -0.936 -0.005"
      ]
     },
     "metadata": {},
     "output_type": "display_data"
    },
    {
     "data": {
      "text/html": [
       "<strong>age:</strong> 0.000865914050141859"
      ],
      "text/latex": [
       "\\textbf{age:} 0.000865914050141859"
      ],
      "text/markdown": [
       "**age:** 0.000865914050141859"
      ],
      "text/plain": [
       "         age \n",
       "0.0008659141 "
      ]
     },
     "metadata": {},
     "output_type": "display_data"
    }
   ],
   "source": [
    "#Test-retest betas for limit\n",
    "sal_only <- subset(volumes, volumes$new_groups == \"SAL\")\n",
    "#Drop levels\n",
    "sal_only$new_groups <- factor(sal_only$new_groups)\n",
    "\n",
    "sal_adults <- subset(sal_only, sal_only$timepoint %in% c(2,3))\n",
    "\n",
    "retest_mod <- lmer(left_CA1Rad ~ sex + age + (1|mouse_id), data = sal_adults, REML = FALSE)\n",
    "summary(retest_mod)\n",
    "#This becomes the effect size for our model to test the limits\n",
    "fixef(retest_mod)[\"age\"]"
   ]
  },
  {
   "cell_type": "code",
   "execution_count": 5,
   "metadata": {},
   "outputs": [],
   "source": [
    "# filter volumes to match my experimental design\n",
    "#look at adolescent timepoints (1 and 2)\n",
    "vols_adol <- subset(volumes, volumes$timepoint %in% c(1,2))\n",
    "# Include only saline and poly early groups\n",
    "vols_adol_early <- subset(vols_adol, vols_adol$new_groups %in% c(\"SAL\", \"POL_E\"))\n",
    "#Drop the extra factors\n",
    "vols_adol_early$new_groups <- factor(vols_adol_early$new_groups)\n",
    "#Exclude those missing a scan\n",
    "#make a data frame representing how many scans a mouse has\n",
    "n_occur <- data.frame(table(vols_adol_early$mouse_id))\n",
    "#Subset the data frame to include those with 2 scans, only\n",
    "two_scans <- subset(n_occur, n_occur$Freq %in% c(2))\n",
    "#Drop extra factors for the mouse_id of mice \n",
    "two_scans$Var1 <- factor(two_scans$Var1)\n",
    "vols_adol_early_noNA <- subset(vols_adol_early, vols_adol_early$mouse_id %in% two_scans$Var1)"
   ]
  },
  {
   "cell_type": "code",
   "execution_count": 6,
   "metadata": {},
   "outputs": [
    {
     "data": {
      "text/plain": [
       "Linear mixed model fit by maximum likelihood  ['lmerMod']\n",
       "Formula: left_CA1Rad ~ sex + new_groups * age + (1 | mouse_id)\n",
       "   Data: vols_adol_early_noNA\n",
       "\n",
       "     AIC      BIC   logLik deviance df.resid \n",
       "  -244.1   -225.1    129.1   -258.1      105 \n",
       "\n",
       "Scaled residuals: \n",
       "    Min      1Q  Median      3Q     Max \n",
       "-1.9358 -0.5020 -0.1015  0.5190  2.1120 \n",
       "\n",
       "Random effects:\n",
       " Groups   Name        Variance Std.Dev.\n",
       " mouse_id (Intercept) 0.002831 0.05321 \n",
       " Residual             0.003661 0.06051 \n",
       "Number of obs: 112, groups:  mouse_id, 56\n",
       "\n",
       "Fixed effects:\n",
       "                   Estimate Std. Error t value\n",
       "(Intercept)        1.299369   0.048803  26.625\n",
       "sexmale            0.048543   0.018302   2.652\n",
       "new_groupsSAL      0.115432   0.057734   1.999\n",
       "age                0.006581   0.000915   7.193\n",
       "new_groupsSAL:age -0.003799   0.001102  -3.447\n",
       "\n",
       "Correlation of Fixed Effects:\n",
       "            (Intr) sexmal nw_SAL age   \n",
       "sexmale     -0.159                     \n",
       "new_grpsSAL -0.819 -0.031              \n",
       "age         -0.929 -0.009  0.787       \n",
       "nw_grpsSAL:  0.772  0.005 -0.941 -0.830"
      ]
     },
     "metadata": {},
     "output_type": "display_data"
    }
   ],
   "source": [
    "# then get stats from lmer \n",
    "# Here I started with a specific regions\n",
    "fm1 <- lmer(left_CA1Rad ~ sex + new_groups * age + (1|mouse_id), data = vols_adol_early_noNA, REML = FALSE)\n",
    "summary(fm1)"
   ]
  },
  {
   "cell_type": "code",
   "execution_count": 7,
   "metadata": {},
   "outputs": [
    {
     "data": {
      "text/html": [
       "<strong>new_groupsSAL:</strong> 0.115431494241998"
      ],
      "text/latex": [
       "\\textbf{new\\textbackslash{}\\_groupsSAL:} 0.115431494241998"
      ],
      "text/markdown": [
       "**new_groupsSAL:** 0.115431494241998"
      ],
      "text/plain": [
       "new_groupsSAL \n",
       "    0.1154315 "
      ]
     },
     "metadata": {},
     "output_type": "display_data"
    },
    {
     "ename": "ERROR",
     "evalue": "Error in extend(fm1, along = \"mouse_id\", n = 200): could not find function \"extend\"\n",
     "output_type": "error",
     "traceback": [
      "Error in extend(fm1, along = \"mouse_id\", n = 200): could not find function \"extend\"\nTraceback:\n"
     ]
    }
   ],
   "source": [
    "#Create power curves-------------------------------------------------------------------\n",
    "#https://rstudio-pubs-static.s3.amazonaws.com/484106_6b51212f20164fdd88cd7cce89bdef79.html\n",
    "fixef(fm1)[\"new_groupsSAL\"]\n",
    "\n",
    "# variable identified is expaneded to n rows \n",
    "model_ext_mice <- extend(fm1, along=\"mouse_id\", n=200)\n",
    "model_ext_mice"
   ]
  },
  {
   "cell_type": "code",
   "execution_count": null,
   "metadata": {},
   "outputs": [],
   "source": [
    "#Set effect size for the actual model to analyze what our power is like now.\n",
    "fixef(fm1)[\"new_groupsSAL\"] <- 0.15\n",
    "#fixef(fm1)[\"new_groupsSAL\"] <- 0.3\n",
    "#Analyze what power we have with the given sample size\n",
    "powerSim(fm1, test = fixed(\"new_groupsSAL\", \"t\"))\n",
    "#Set effect size for the extended model \n",
    "fixef(model_ext_mice)[\"new_groupsSAL\"] <- 0.15\n",
    "#fixef(model_ext_mice)[\"new_groupsSAL\"] <- 0.3\n",
    "set.seed(0)\n",
    "p_curve_treat <- powerCurve(model_ext_mice, \n",
    "                          test= fixed(\"new_groupsSAL\", \"t\"), \n",
    "                          along=\"mouse_id\",\n",
    "                          breaks=seq(1,100,10),\n",
    "                          nsim=100,alpha=.05, progress=TRUE)\n",
    "plot(p_curve_treat)"
   ]
  },
  {
   "cell_type": "code",
   "execution_count": null,
   "metadata": {},
   "outputs": [],
   "source": [
    "#Test smallest possible effect size (from test-retest)\n",
    "#First use real data\n",
    "fixef(fm1)[\"new_groupsSAL\"] <- fixef(retest_mod)[\"age\"]\n",
    "powerSim(fm1, test = fixed(\"new_groupsSAL\", \"t\"))\n",
    "\n",
    "#Then extend to larger sample size\n",
    "fixef(model_ext_mice)[\"new_groupsSAL\"] <- fixef(retest_mod)[\"age\"]\n",
    "powerSim(model_ext_mice, test = fixed(\"new_groupsSAL\", \"t\"))\n",
    "set.seed(0)\n",
    "p_curve_bound <- powerCurve(model_ext_mice, \n",
    "                                test=fixed(\"new_groupsSAL\", \"t\"), \n",
    "                                along=\"mouse_id\",\n",
    "                                breaks=seq(1,120, 20),\n",
    "                                nsim=500,alpha=.05, progress=TRUE)\n",
    "plot(p_curve_bound)\n"
   ]
  },
  {
   "cell_type": "markdown",
   "metadata": {},
   "source": [
    "In the following section, I generate the histograms to examine our newly simulated data. "
   ]
  },
  {
   "cell_type": "code",
   "execution_count": null,
   "metadata": {},
   "outputs": [],
   "source": [
    "#Create variable for the new data\n",
    "newData <- getData(model_ext_mice)\n",
    "#Compare tables of the old data and the new data \n",
    "table(vols_adol_early_noNA$timepoint, vols_adol_early_noNA$new_groups)\n",
    "table(vols_adol_early_noNA$new_groups, vols_adol_early_noNA$sex)\n",
    "\n",
    "#Check the new data for the distributions -- are the proportions the same?\n",
    "table(newData$timepoint, newData$new_groups)\n",
    "table(newData$new_groups, newData$sex)\n",
    "\n",
    "#histogram of structure (left CA1Rad) we are examining\n",
    "hist_orig <- hist(vols_adol_early_noNA$left_CA1Rad,\n",
    "                  main=\"Volume of left CA1 Rad\",\n",
    "                  xlab=\"Volumes (mm)\")\n",
    "\n",
    "#histogram of structure we are examining\n",
    "hist_orig <- hist(newData$left_CA1Rad,\n",
    "                  main=\"Volume of left CA1 Rad (simulated)\",\n",
    "                  xlab=\"Volumes (mm) (simulated)\")\n"
   ]
  }
 ],
 "metadata": {
  "kernelspec": {
   "display_name": "R",
   "language": "R",
   "name": "ir"
  },
  "language_info": {
   "codemirror_mode": "r",
   "file_extension": ".r",
   "mimetype": "text/x-r-source",
   "name": "R",
   "pygments_lexer": "r",
   "version": "3.4.4"
  }
 },
 "nbformat": 4,
 "nbformat_minor": 2
}
