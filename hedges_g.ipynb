{
 "cells": [
  {
   "cell_type": "markdown",
   "metadata": {},
   "source": [
    "Author: Lani Cupo\n",
    "Date: 20190927\n",
    "This Jupyter Notebook (R) shows my code to calculate Hedge's G in order to test for test-retest reliability in our data set. "
   ]
  },
  {
   "cell_type": "code",
   "execution_count": 1,
   "metadata": {},
   "outputs": [],
   "source": [
    "#set working directory \n",
    "setwd(\"/home/lani/phd1/pwr_analysis\")"
   ]
  },
  {
   "cell_type": "code",
   "execution_count": 2,
   "metadata": {},
   "outputs": [],
   "source": [
    "#load in datasets\n",
    "volumes <- read.csv(\"allvolumes_mia.csv\")"
   ]
  },
  {
   "cell_type": "code",
   "execution_count": 3,
   "metadata": {},
   "outputs": [],
   "source": [
    "#Select only the saline conditions and timepoints of interest\n",
    "vols_sal <- subset(volumes, volumes$new_groups == \"SAL\")\n",
    "#First adult timepoint\n",
    "vols_sal_adult1 <- subset(vols_sal, vols_sal$timepoint == 2)\n",
    "#Second adult timepoint\n",
    "vols_sal_adult2 <- subset(vols_sal, vols_sal$timepoint == 3)"
   ]
  },
  {
   "cell_type": "code",
   "execution_count": 4,
   "metadata": {},
   "outputs": [],
   "source": [
    "#Generate means of a structure (here left_CA1Rad)\n",
    "m1 <- mean(vols_sal_adult1$left_CA1Rad)\n",
    "m2 <- mean(vols_sal_adult2$left_CA1Rad)"
   ]
  },
  {
   "cell_type": "code",
   "execution_count": 5,
   "metadata": {},
   "outputs": [],
   "source": [
    "#Generate necessary items\n",
    "#ns\n",
    "n <- c(nrow(vols_sal_adult1), nrow(vols_sal_adult2))\n",
    "#standard deviations\n",
    "std <- c(sd(vols_sal_adult1$left_CA1Rad), sd(vols_sal_adult2$left_CA1Rad))"
   ]
  },
  {
   "cell_type": "code",
   "execution_count": 6,
   "metadata": {},
   "outputs": [],
   "source": [
    "#calculate pooled sd\n",
    "pld.sd <- sqrt((((n[1]-1)*std[1]^2)+((n[2]-1)*std[2]^2))/(n[1]+n[2]-2))"
   ]
  },
  {
   "cell_type": "code",
   "execution_count": 7,
   "metadata": {},
   "outputs": [
    {
     "data": {
      "text/html": [
       "0.335341584203494"
      ],
      "text/latex": [
       "0.335341584203494"
      ],
      "text/markdown": [
       "0.335341584203494"
      ],
      "text/plain": [
       "[1] 0.3353416"
      ]
     },
     "metadata": {},
     "output_type": "display_data"
    }
   ],
   "source": [
    "#Calculate Hedge's G\n",
    "g <- abs(m1-m2)/pld.sd\n",
    "g"
   ]
  }
 ],
 "metadata": {
  "kernelspec": {
   "display_name": "R",
   "language": "R",
   "name": "ir"
  },
  "language_info": {
   "codemirror_mode": "r",
   "file_extension": ".r",
   "mimetype": "text/x-r-source",
   "name": "R",
   "pygments_lexer": "r",
   "version": "3.4.4"
  }
 },
 "nbformat": 4,
 "nbformat_minor": 2
}
